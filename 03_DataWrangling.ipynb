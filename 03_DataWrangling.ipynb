{
 "cells": [
  {
   "cell_type": "code",
   "execution_count": 3,
   "id": "dce48f6f-82b7-427e-b8e1-047aae565b78",
   "metadata": {},
   "outputs": [
    {
     "name": "stdout",
     "output_type": "stream",
     "text": [
      "\n",
      "Rows removed due to duplicate IDs:\n",
      " ID        Name  Age Gender  Salary Department  Join_Date  Performance_Score\n",
      "  3 Bob Johnson  NaN   Male 45000.0    Finance 10-01-2021              -78.0\n",
      "\n",
      "Rows removed due to missing Age:\n",
      " ID          Name  Age Gender  Salary Department  Join_Date  Performance_Score\n",
      " 10 Olivia Taylor  NaN Female 60000.0  Marketing 30-06-2021               77.0\n",
      "\n",
      "Rows where missing Salary was filled with median value (59000.0):\n",
      " ID          Name  Age Gender  Salary Department  Join_Date  Performance_Score\n",
      "  4   Alice Brown 29.0 Female     NaN         HR 05-03-2023               88.0\n",
      " 16 Amelia Walker 30.0 Female     NaN         HR 05-01-2023               82.0\n",
      " 34   Hannah Cook 30.0 Female     NaN  Marketing 10-04-2020               79.0\n",
      "\n",
      "Data cleaning completed. Processed file saved as 'cleaned_data1.csv'.\n"
     ]
    }
   ],
   "source": [
    "import pandas as pd\n",
    "\n",
    "# Adjust display settings for better output formatting\n",
    "pd.set_option('display.max_columns', None)  # Show all columns\n",
    "pd.set_option('display.expand_frame_repr', False)  # Prevent wrapping\n",
    "\n",
    "# Load the CSV file\n",
    "df = pd.read_csv(r\"C:\\Users\\ACER\\Downloads\\data1.csv\")\n",
    "\n",
    "# Keep a copy of the original data for comparison\n",
    "original_df = df.copy()\n",
    "\n",
    "# Remove duplicate IDs, keeping the first occurrence\n",
    "duplicates_removed = df[df.duplicated(subset=\"ID\", keep=\"first\")]\n",
    "df = df.drop_duplicates(subset=\"ID\", keep=\"first\")\n",
    "\n",
    "# Remove rows where Age is missing\n",
    "rows_with_missing_age = df[df[\"Age\"].isna()]\n",
    "df = df.dropna(subset=[\"Age\"])\n",
    "\n",
    "# Fill missing Salary values with the median salary\n",
    "median_salary = df[\"Salary\"].median()\n",
    "rows_with_missing_salary = df[df[\"Salary\"].isna()]\n",
    "df[\"Salary\"] = df[\"Salary\"].fillna(median_salary)\n",
    "\n",
    "# Save the cleaned data to a new CSV file\n",
    "df.to_csv(\"cleaned_data1.csv\", index=False)\n",
    "\n",
    "# Print removed and modified rows with proper formatting\n",
    "print(\"\\nRows removed due to duplicate IDs:\")\n",
    "print(duplicates_removed.to_string(index=False))\n",
    "\n",
    "print(\"\\nRows removed due to missing Age:\")\n",
    "print(rows_with_missing_age.to_string(index=False))\n",
    "\n",
    "print(f\"\\nRows where missing Salary was filled with median value ({median_salary}):\")\n",
    "print(rows_with_missing_salary.to_string(index=False))\n",
    "\n",
    "print(\"\\nData cleaning completed. Processed file saved as 'cleaned_data1.csv'.\")"
   ]
  },
  {
   "cell_type": "code",
   "execution_count": null,
   "id": "c47a125e-cf9c-4175-b766-977d34fe6f43",
   "metadata": {},
   "outputs": [],
   "source": []
  }
 ],
 "metadata": {
  "kernelspec": {
   "display_name": "Python [conda env:base] *",
   "language": "python",
   "name": "conda-base-py"
  },
  "language_info": {
   "codemirror_mode": {
    "name": "ipython",
    "version": 3
   },
   "file_extension": ".py",
   "mimetype": "text/x-python",
   "name": "python",
   "nbconvert_exporter": "python",
   "pygments_lexer": "ipython3",
   "version": "3.12.4"
  }
 },
 "nbformat": 4,
 "nbformat_minor": 5
}
