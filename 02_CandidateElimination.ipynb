{
 "cells": [
  {
   "cell_type": "code",
   "execution_count": 32,
   "id": "dec5c376-0e72-412e-ad24-f8c2dba6eb25",
   "metadata": {},
   "outputs": [
    {
     "name": "stdout",
     "output_type": "stream",
     "text": [
      "Processing instance: ['sunny', 'hot', 'high', False] Label: 1\n",
      " (S): ['Null', 'Null', 'Null', 'Null']\n",
      " (G): []\n",
      "Processing instance: ['sunny', 'hot', 'high', True] Label: 1\n",
      " (S): ['Null', 'Null', 'Null', 'Null']\n",
      " (G): []\n",
      "Processing instance: ['overcast', 'hot', 'high', False] Label: 1\n",
      " (S): ['Null', 'Null', 'Null', 'Null']\n",
      " (G): []\n",
      "Processing instance: ['rainy', 'mild', 'high', False] Label: 1\n",
      " (S): ['Null', 'Null', 'Null', 'Null']\n",
      " (G): []\n",
      "Processing instance: ['rainy', 'cool', 'normal', False] Label: 1\n",
      " (S): ['Null', 'Null', 'Null', 'Null']\n",
      " (G): []\n",
      "Processing instance: ['rainy', 'cool', 'normal', True] Label: 1\n",
      " (S): ['Null', 'Null', 'Null', 'Null']\n",
      " (G): []\n",
      "Processing instance: ['overcast', 'cool', 'normal', True] Label: 1\n",
      " (S): ['Null', 'Null', 'Null', 'Null']\n",
      " (G): []\n",
      "Processing instance: ['sunny', 'mild', 'high', False] Label: 1\n",
      " (S): ['Null', 'Null', 'Null', 'Null']\n",
      " (G): []\n",
      "Processing instance: ['sunny', 'cool', 'normal', False] Label: 1\n",
      " (S): ['Null', 'Null', 'Null', 'Null']\n",
      " (G): []\n",
      "Processing instance: ['rainy', 'mild', 'normal', False] Label: 1\n",
      " (S): ['Null', 'Null', 'Null', 'Null']\n",
      " (G): []\n",
      "Processing instance: ['sunny', 'mild', 'normal', True] Label: 1\n",
      " (S): ['Null', 'Null', 'Null', 'Null']\n",
      " (G): []\n",
      "Processing instance: ['overcast', 'mild', 'high', True] Label: 1\n",
      " (S): ['Null', 'Null', 'Null', 'Null']\n",
      " (G): []\n",
      "Processing instance: ['overcast', 'hot', 'normal', False] Label: 1\n",
      " (S): ['Null', 'Null', 'Null', 'Null']\n",
      " (G): []\n",
      "Processing instance: ['rainy', 'mild', 'high', True] Label: 1\n",
      " (S): ['Null', 'Null', 'Null', 'Null']\n",
      " (G): []\n",
      "Final (S): ['Null', 'Null', 'Null', 'Null']\n",
      "Final (G): []\n"
     ]
    }
   ],
   "source": [
    "import copy, pandas as pd\n",
    "def const(h, e): return all(x=='?' or x==y for x,y in zip(h,e))\n",
    "def update_pos(G, S, e):\n",
    "    for j in range(len(S)):\n",
    "        S[j] = '?' if S[j]!= 'Null'and S[j]!=e[j] else e[j]\n",
    "def update_neg(G, S, e):\n",
    "    new_G = []\n",
    "    for g in G:\n",
    "        if const(g,e):\n",
    "            for i in range(len(e)):\n",
    "                if S[i]!='?' and S[i]!='Null' and e[i]!=S[i]:\n",
    "                    h = g.copy()\n",
    "                    h[i] = S[i]\n",
    "                    if h not in new_G: new_G.append(h)\n",
    "        else: new_G.append(g)\n",
    "    return new_G\n",
    "def sync(G, S): return [g for g in G if all(g[i]=='?' or g[i]==S[i] for i in range(len(S)))]\n",
    "data = pd.read_csv(r\"C:\\Users\\ACER\\Downloads\\weather.csv\")\n",
    "instances = data.values.tolist()\n",
    "G = [['?']*len(instances[0][:-1]) for _ in range(len(instances[0][:-1]))]\n",
    "S = ['Null']*len(instances[0][:-1])\n",
    "for instance in instances:\n",
    "    e, l = instance[:-1],instance[ -1]\n",
    "    print(\"Processing instance:\", e, \"Label:\", 1)\n",
    "    if l=='Yes': update_pos(G,S,e)\n",
    "    else: G = update_neg(G,S,e)\n",
    "    print(\" (S):\", S)\n",
    "    print(\" (G):\", G)\n",
    "G = sync(G,S)\n",
    "print(\"Final (S):\", S)\n",
    "print(\"Final (G):\", G)"
   ]
  },
  {
   "cell_type": "code",
   "execution_count": null,
   "id": "99ad44ab-c5cf-42b2-9790-d7eddff408f3",
   "metadata": {},
   "outputs": [],
   "source": []
  },
  {
   "cell_type": "code",
   "execution_count": null,
   "id": "36a893aa-e050-4df7-a191-aa7acfcc9758",
   "metadata": {},
   "outputs": [],
   "source": []
  },
  {
   "cell_type": "code",
   "execution_count": null,
   "id": "1f89db78-9880-40a0-a714-8a9b059f852d",
   "metadata": {},
   "outputs": [],
   "source": []
  },
  {
   "cell_type": "code",
   "execution_count": null,
   "id": "781c4d8e-bdb8-48ad-8936-8724d2281d2e",
   "metadata": {},
   "outputs": [],
   "source": []
  },
  {
   "cell_type": "code",
   "execution_count": null,
   "id": "376ebe74-89d1-4686-8990-e9d2e7f43895",
   "metadata": {},
   "outputs": [],
   "source": []
  },
  {
   "cell_type": "code",
   "execution_count": null,
   "id": "430d7219-2299-40f9-9ebd-2dd85e0439ed",
   "metadata": {},
   "outputs": [],
   "source": []
  },
  {
   "cell_type": "code",
   "execution_count": null,
   "id": "8d1911cb-3e83-4aa9-b62b-7a08859fd624",
   "metadata": {},
   "outputs": [],
   "source": []
  },
  {
   "cell_type": "code",
   "execution_count": null,
   "id": "e05b2bb9-9a15-4cff-873c-597026fdb8ca",
   "metadata": {},
   "outputs": [],
   "source": []
  },
  {
   "cell_type": "code",
   "execution_count": null,
   "id": "a44e1d00-e8ae-4f63-83b1-bc7012903278",
   "metadata": {},
   "outputs": [],
   "source": []
  },
  {
   "cell_type": "code",
   "execution_count": null,
   "id": "02b78486-c76b-4950-8ff1-4dfcb1b24384",
   "metadata": {},
   "outputs": [],
   "source": []
  },
  {
   "cell_type": "code",
   "execution_count": null,
   "id": "6b33cfba-c067-4c62-824e-eb393c87480d",
   "metadata": {},
   "outputs": [],
   "source": []
  },
  {
   "cell_type": "code",
   "execution_count": null,
   "id": "e8da8800-6178-4770-a5b6-262353a7cead",
   "metadata": {},
   "outputs": [],
   "source": []
  },
  {
   "cell_type": "code",
   "execution_count": null,
   "id": "8b23267f-0a84-43ad-a067-75ea82646b7e",
   "metadata": {},
   "outputs": [],
   "source": []
  },
  {
   "cell_type": "code",
   "execution_count": null,
   "id": "bba307a4-c46a-4591-934b-693f56b70f67",
   "metadata": {},
   "outputs": [],
   "source": []
  }
 ],
 "metadata": {
  "kernelspec": {
   "display_name": "Python [conda env:base] *",
   "language": "python",
   "name": "conda-base-py"
  },
  "language_info": {
   "codemirror_mode": {
    "name": "ipython",
    "version": 3
   },
   "file_extension": ".py",
   "mimetype": "text/x-python",
   "name": "python",
   "nbconvert_exporter": "python",
   "pygments_lexer": "ipython3",
   "version": "3.12.4"
  }
 },
 "nbformat": 4,
 "nbformat_minor": 5
}
