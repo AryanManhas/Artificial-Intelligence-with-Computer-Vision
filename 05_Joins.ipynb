{
 "cells": [
  {
   "cell_type": "code",
   "execution_count": 5,
   "id": "0cfdbc22-1ce2-42a4-a588-c3a2636649c1",
   "metadata": {},
   "outputs": [
    {
     "name": "stdout",
     "output_type": "stream",
     "text": [
      "\n",
      "Inner Join:\n",
      "    Employee_ID     Name Department  Salary Project  Budget\n",
      "0          101    Alice         HR   50000       A   10000\n",
      "1          103  Charlie         IT   55000       B   15000\n",
      "2          105      Eva         HR   48000       C   12000\n",
      "\n",
      "Outer Join:\n",
      "    Employee_ID     Name Department   Salary Project   Budget\n",
      "0          101    Alice         HR  50000.0       A  10000.0\n",
      "1          102      Bob         IT  60000.0     NaN      NaN\n",
      "2          103  Charlie         IT  55000.0       B  15000.0\n",
      "3          104    David    Finance  52000.0     NaN      NaN\n",
      "4          105      Eva         HR  48000.0       C  12000.0\n",
      "5          106      NaN        NaN      NaN       D  18000.0\n",
      "6          107      NaN        NaN      NaN       E  22000.0\n",
      "\n",
      "Left Join:\n",
      "    Employee_ID     Name Department  Salary Project   Budget\n",
      "0          101    Alice         HR   50000       A  10000.0\n",
      "1          102      Bob         IT   60000     NaN      NaN\n",
      "2          103  Charlie         IT   55000       B  15000.0\n",
      "3          104    David    Finance   52000     NaN      NaN\n",
      "4          105      Eva         HR   48000       C  12000.0\n",
      "\n",
      "Right Join:\n",
      "    Employee_ID     Name Department   Salary Project  Budget\n",
      "0          101    Alice         HR  50000.0       A   10000\n",
      "1          103  Charlie         IT  55000.0       B   15000\n",
      "2          105      Eva         HR  48000.0       C   12000\n",
      "3          106      NaN        NaN      NaN       D   18000\n",
      "4          107      NaN        NaN      NaN       E   22000\n",
      "\n",
      "Joined datasets saved as CSV files.\n"
     ]
    }
   ],
   "source": [
    "import pandas as pd\n",
    "\n",
    "# Load the datasets from CSV files\n",
    "employees = pd.read_csv(r\"C:\\Users\\ACER\\Downloads\\file1.csv\")  # Make sure the file is in the same directory\n",
    "projects = pd.read_csv(r\"C:\\Users\\ACER\\Downloads\\file2.csv\")\n",
    "\n",
    "# INNER JOIN (Only matching Employee_IDs)\n",
    "inner_join = pd.merge(employees, projects, on=\"Employee_ID\", how=\"inner\")\n",
    "print(\"\\nInner Join:\\n\", inner_join)\n",
    "\n",
    "# OUTER JOIN (All records, missing values filled with NaN)\n",
    "outer_join = pd.merge(employees, projects, on=\"Employee_ID\", how=\"outer\")\n",
    "print(\"\\nOuter Join:\\n\", outer_join)\n",
    "\n",
    "# LEFT JOIN (All from employees, matching from projects)\n",
    "left_join = pd.merge(employees, projects, on=\"Employee_ID\", how=\"left\")\n",
    "print(\"\\nLeft Join:\\n\", left_join)\n",
    "\n",
    "# RIGHT JOIN (All from projects, matching from employees)\n",
    "right_join = pd.merge(employees, projects, on=\"Employee_ID\", how=\"right\")\n",
    "print(\"\\nRight Join:\\n\", right_join)\n",
    "\n",
    "# Save the joined datasets (Optional)\n",
    "inner_join.to_csv(\"inner_join.csv\", index=False)\n",
    "outer_join.to_csv(\"outer_join.csv\", index=False)\n",
    "left_join.to_csv(\"left_join.csv\", index=False)\n",
    "right_join.to_csv(\"right_join.csv\", index=False)\n",
    "\n",
    "print(\"\\nJoined datasets saved as CSV files.\")\n"
   ]
  },
  {
   "cell_type": "code",
   "execution_count": null,
   "id": "b70e0964-5c73-413d-889f-d8a83d26918e",
   "metadata": {},
   "outputs": [],
   "source": []
  },
  {
   "cell_type": "code",
   "execution_count": null,
   "id": "ed4dc4fa-90e8-4608-81d5-4c1a90565d13",
   "metadata": {},
   "outputs": [],
   "source": []
  },
  {
   "cell_type": "code",
   "execution_count": null,
   "id": "c3dcded6-aecd-4d3e-8e2c-e698024dd5a9",
   "metadata": {},
   "outputs": [],
   "source": []
  },
  {
   "cell_type": "code",
   "execution_count": null,
   "id": "cfb6792a-a4eb-432d-a9e8-6c27bd07d798",
   "metadata": {},
   "outputs": [],
   "source": []
  },
  {
   "cell_type": "code",
   "execution_count": null,
   "id": "558a8cdb-60a5-4f34-85c6-7c071bbb0efb",
   "metadata": {},
   "outputs": [],
   "source": []
  },
  {
   "cell_type": "code",
   "execution_count": null,
   "id": "8b71154d-b724-460a-bd3f-d5341385ba60",
   "metadata": {},
   "outputs": [],
   "source": []
  },
  {
   "cell_type": "code",
   "execution_count": null,
   "id": "8f6e5144-2b24-4770-821a-feabdb2f2e4f",
   "metadata": {},
   "outputs": [],
   "source": []
  },
  {
   "cell_type": "code",
   "execution_count": null,
   "id": "762c47ae-2647-4df1-99b5-c9c0d6c0c18d",
   "metadata": {},
   "outputs": [],
   "source": []
  }
 ],
 "metadata": {
  "kernelspec": {
   "display_name": "Python [conda env:base] *",
   "language": "python",
   "name": "conda-base-py"
  },
  "language_info": {
   "codemirror_mode": {
    "name": "ipython",
    "version": 3
   },
   "file_extension": ".py",
   "mimetype": "text/x-python",
   "name": "python",
   "nbconvert_exporter": "python",
   "pygments_lexer": "ipython3",
   "version": "3.12.4"
  }
 },
 "nbformat": 4,
 "nbformat_minor": 5
}
