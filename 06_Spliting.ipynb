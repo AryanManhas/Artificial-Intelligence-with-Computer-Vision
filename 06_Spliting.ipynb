{
 "cells": [
  {
   "cell_type": "code",
   "execution_count": null,
   "id": "53cbb4bd-29e0-463c-8932-55ea6c711678",
   "metadata": {},
   "outputs": [],
   "source": [
    "import pandas as pd\n",
    "\n",
    "# Load the CSV file into a DataFrame\n",
    "df = pd.read_csv('data2.csv')\n",
    "\n",
    "#print original data\n",
    "print(\"Original Data: \\n\\n\", df)\n",
    "\n",
    "# Split the 'Name' column into 'First Name' and 'Last Name'\n",
    "df[['First Name', 'Last Name']] = df['Name'].str.split(' ', n=1, expand=True)\n",
    "\n",
    "# Drop the original 'Name' column\n",
    "df.drop(columns=['Name'], inplace=True)\n",
    "\n",
    "#reorder the columns\n",
    "df = df[['ID', 'First Name', 'Last Name', 'Age', 'Salary']]\n",
    "\n",
    "#print modified data\n",
    "print(\"\\nModified Data\\n\\n\", df)\n",
    "\n",
    "# Save the updated DataFrame back to a CSV file (optional)\n",
    "df.to_csv('data2_updated.csv', index=False)"
   ]
  },
  {
   "cell_type": "code",
   "execution_count": null,
   "id": "f66b465a-718c-41c2-93d5-a912783146c8",
   "metadata": {},
   "outputs": [],
   "source": []
  },
  {
   "cell_type": "code",
   "execution_count": null,
   "id": "487cbf9c-5673-4188-a655-86e9c4aeb3dc",
   "metadata": {},
   "outputs": [],
   "source": []
  },
  {
   "cell_type": "code",
   "execution_count": null,
   "id": "bc6dfe1b-56d4-4ae2-a376-7432ac832523",
   "metadata": {},
   "outputs": [],
   "source": []
  },
  {
   "cell_type": "code",
   "execution_count": null,
   "id": "c1540da3-2e27-4594-9ba5-b684be62901e",
   "metadata": {},
   "outputs": [],
   "source": []
  },
  {
   "cell_type": "code",
   "execution_count": null,
   "id": "95950032-2bc9-4e86-9fb4-a1970feed47c",
   "metadata": {},
   "outputs": [],
   "source": []
  },
  {
   "cell_type": "code",
   "execution_count": null,
   "id": "a02b83f1-08a0-4cde-9868-72220913bb4c",
   "metadata": {},
   "outputs": [],
   "source": []
  },
  {
   "cell_type": "code",
   "execution_count": null,
   "id": "96106c7a-34ce-43ce-8216-b3b532173817",
   "metadata": {},
   "outputs": [],
   "source": []
  },
  {
   "cell_type": "code",
   "execution_count": null,
   "id": "8d550d40-e572-4451-be3d-5df50fb97f30",
   "metadata": {},
   "outputs": [],
   "source": []
  },
  {
   "cell_type": "code",
   "execution_count": null,
   "id": "2e50b800-2e60-4d08-b0ee-272096ffe321",
   "metadata": {},
   "outputs": [],
   "source": []
  },
  {
   "cell_type": "code",
   "execution_count": null,
   "id": "3f8f6744-514a-46e5-9e12-3a4d56f4fcbd",
   "metadata": {},
   "outputs": [],
   "source": []
  },
  {
   "cell_type": "code",
   "execution_count": null,
   "id": "60e5fc8d-96fd-41a1-9eef-6754bd752067",
   "metadata": {},
   "outputs": [],
   "source": []
  },
  {
   "cell_type": "code",
   "execution_count": null,
   "id": "fd7a49c3-4640-41e4-b6b2-ada5bebebd39",
   "metadata": {},
   "outputs": [],
   "source": []
  },
  {
   "cell_type": "code",
   "execution_count": null,
   "id": "68dc5d49-3fc5-4a4b-94f6-43873736fe48",
   "metadata": {},
   "outputs": [],
   "source": []
  },
  {
   "cell_type": "code",
   "execution_count": null,
   "id": "b186c428-aa72-4df0-87d2-1b3c25153f1e",
   "metadata": {},
   "outputs": [],
   "source": []
  },
  {
   "cell_type": "code",
   "execution_count": null,
   "id": "af1867f4-bd85-40c8-b8d3-a5b6dc362164",
   "metadata": {},
   "outputs": [],
   "source": []
  },
  {
   "cell_type": "code",
   "execution_count": null,
   "id": "842b4185-aa34-4e33-9eeb-da1c62abd443",
   "metadata": {},
   "outputs": [],
   "source": []
  },
  {
   "cell_type": "code",
   "execution_count": null,
   "id": "1a3b4160-24d6-4b28-aad0-d41e86dadec3",
   "metadata": {},
   "outputs": [],
   "source": []
  },
  {
   "cell_type": "code",
   "execution_count": null,
   "id": "b40cd3c3-a027-40ea-9975-d24339c26f92",
   "metadata": {},
   "outputs": [],
   "source": []
  }
 ],
 "metadata": {
  "kernelspec": {
   "display_name": "Python [conda env:base] *",
   "language": "python",
   "name": "conda-base-py"
  },
  "language_info": {
   "codemirror_mode": {
    "name": "ipython",
    "version": 3
   },
   "file_extension": ".py",
   "mimetype": "text/x-python",
   "name": "python",
   "nbconvert_exporter": "python",
   "pygments_lexer": "ipython3",
   "version": "3.12.4"
  }
 },
 "nbformat": 4,
 "nbformat_minor": 5
}
