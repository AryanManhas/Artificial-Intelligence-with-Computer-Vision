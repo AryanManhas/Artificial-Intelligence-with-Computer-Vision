{
 "cells": [
  {
   "cell_type": "code",
   "execution_count": 26,
   "id": "5f42957e-eea5-4c1c-8bbe-6a7e8025b6fa",
   "metadata": {},
   "outputs": [
    {
     "name": "stdout",
     "output_type": "stream",
     "text": [
      "Reviews saved to amazon_reviews.csv\n"
     ]
    },
    {
     "data": {
      "text/html": [
       "<div>\n",
       "<style scoped>\n",
       "    .dataframe tbody tr th:only-of-type {\n",
       "        vertical-align: middle;\n",
       "    }\n",
       "\n",
       "    .dataframe tbody tr th {\n",
       "        vertical-align: top;\n",
       "    }\n",
       "\n",
       "    .dataframe thead th {\n",
       "        text-align: right;\n",
       "    }\n",
       "</style>\n",
       "<table border=\"1\" class=\"dataframe\">\n",
       "  <thead>\n",
       "    <tr style=\"text-align: right;\">\n",
       "      <th></th>\n",
       "      <th>Review</th>\n",
       "    </tr>\n",
       "  </thead>\n",
       "  <tbody>\n",
       "    <tr>\n",
       "      <th>0</th>\n",
       "      <td>See, I Am A Junior Developer In Python Program...</td>\n",
       "    </tr>\n",
       "    <tr>\n",
       "      <th>1</th>\n",
       "      <td>Overall book is good for beginners but it's no...</td>\n",
       "    </tr>\n",
       "    <tr>\n",
       "      <th>2</th>\n",
       "      <td>The quality of the book is not up to mark acco...</td>\n",
       "    </tr>\n",
       "    <tr>\n",
       "      <th>3</th>\n",
       "      <td>It is good only for those who dont have any kn...</td>\n",
       "    </tr>\n",
       "    <tr>\n",
       "      <th>4</th>\n",
       "      <td>Best book for beginners only disappointed by t...</td>\n",
       "    </tr>\n",
       "    <tr>\n",
       "      <th>5</th>\n",
       "      <td>GoodRead more</td>\n",
       "    </tr>\n",
       "    <tr>\n",
       "      <th>6</th>\n",
       "      <td>Nice productRead more</td>\n",
       "    </tr>\n",
       "    <tr>\n",
       "      <th>7</th>\n",
       "      <td>Not very deep. But maybe good for beginners.Re...</td>\n",
       "    </tr>\n",
       "  </tbody>\n",
       "</table>\n",
       "</div>"
      ],
      "text/plain": [
       "                                              Review\n",
       "0  See, I Am A Junior Developer In Python Program...\n",
       "1  Overall book is good for beginners but it's no...\n",
       "2  The quality of the book is not up to mark acco...\n",
       "3  It is good only for those who dont have any kn...\n",
       "4  Best book for beginners only disappointed by t...\n",
       "5                                      GoodRead more\n",
       "6                              Nice productRead more\n",
       "7  Not very deep. But maybe good for beginners.Re..."
      ]
     },
     "execution_count": 26,
     "metadata": {},
     "output_type": "execute_result"
    }
   ],
   "source": [
    "from bs4 import BeautifulSoup\n",
    "import requests\n",
    "import pandas as pd\n",
    "\n",
    "url = \"https://www.amazon.in/Mastery-Python-Programming-Beginners-Definietly/dp/9389769361?crid=23W4C8MN3HG74&dib=eyJ2IjoiMSJ9.0pglZ2JeGzp58LUc8Fz9fhsgC8ybp_2QCYq4cnZhpdB8UTcPamEbUnYoldXeBNug1LXGukPg5tf_yWgh1WTtM1fvt2jKQRKvQ8617JGg15ZjOkJ9vIJVENADrjlrDm-b9wlQyNpgRiJaWC57gC9vk4y8rFd7xevIYZhR_pp0oSSJgVYHGPOwd1URXUcPZfEtVBPK_MLDfW8jRel9FKrIvjoDoFi8DGMrXUq0T0GO8-g.jX_V9YChCDDzxx-Ph2B5vqAyQmQJzqcvo0dOyRSdVY8&dib_tag=se&keywords=python+books+for+beginners+to+advanced&qid=1744261054&sprefix=%2Caps%2C248&sr=8-3.\"\n",
    "\n",
    "headers = {\n",
    "    'User-Agent': 'Mozilla/5.0 (Windows NT 10.0; Win64; x64) AppleWebKit/537.36 (KHTML, like Gecko) Chrome/131.0.0.0 Safari/537.36',\n",
    "    'Accept-Language': 'en-US,en;q=0.9'\n",
    "}\n",
    "\n",
    "response = requests.get(url, headers=headers)\n",
    "soup = BeautifulSoup(response.content, \"html.parser\")\n",
    "\n",
    "reviews_section = soup.find('div', id='customerReviews')\n",
    "\n",
    "review_list = []\n",
    "\n",
    "if reviews_section:\n",
    "    reviews = reviews_section.find_all('span', {'data-hook': 'review-body'})\n",
    "    for review in reviews:\n",
    "        review_text = review.get_text(strip=True)\n",
    "        review_list.append(review_text)\n",
    "else:\n",
    "    print(\"Reviews section not found.\")\n",
    "\n",
    "df = pd.DataFrame(review_list, columns=['Review'])\n",
    "\n",
    "\n",
    "df.to_csv(\"amazon_reviews.csv\", index=False)\n",
    "\n",
    "\n",
    "print(\"Reviews saved to amazon_reviews.csv\")\n",
    "\n",
    "df\n"
   ]
  },
  {
   "cell_type": "code",
   "execution_count": 34,
   "id": "3d96f8e0-6d36-4a09-9e22-ea5a267d0ee8",
   "metadata": {},
   "outputs": [
    {
     "name": "stdout",
     "output_type": "stream",
     "text": [
      "Headlines saved to bbc_card_headlines.csv successfully!\n",
      "\n",
      "                               BBC Top News Headlines\n",
      "0   China tariffs on US goods take effect and Asia...\n",
      "1   Trump steps back from cliff edge of all-out gl...\n",
      "2   Germany is back, says Merz, after sealing gove...\n",
      "3   Unbearable wait for relatives in nightclub dis...\n",
      "4   'Part of us is still in Gaza': Freed Israeli h...\n",
      "..                                                ...\n",
      "57  How does Onana compare to other Man Utd keeper...\n",
      "58  'Phenomenal' & 'breathtaking' - Raphinha on co...\n",
      "59  'Free spirit Doue epitomises PSG - this could ...\n",
      "60         Liverpool closing in on new Salah contract\n",
      "61  'We believe in Villa Park' - can Emery's men r...\n",
      "\n",
      "[62 rows x 1 columns]\n"
     ]
    }
   ],
   "source": [
    "import requests\n",
    "from bs4 import BeautifulSoup\n",
    "import pandas as pd\n",
    "\n",
    "url = \"https://www.bbc.com/news\"\n",
    "\n",
    "headers = {\n",
    "    'User-Agent': 'Mozilla/5.0 (Windows NT 10.0; Win64; x64) AppleWebKit/537.36 (KHTML, like Gecko) Chrome/131.0.0.0 Safari/537.36'\n",
    "}\n",
    "\n",
    "response = requests.get(url, headers=headers)\n",
    "soup = BeautifulSoup(response.content, \"html.parser\")\n",
    "\n",
    "headline_tags = soup.find_all(\"h2\", attrs={\"data-testid\": \"card-headline\"})\n",
    "\n",
    "headlines = [tag.get_text(strip=True) for tag in headline_tags if tag.get_text(strip=True)]\n",
    "\n",
    "df = pd.DataFrame(headlines, columns=[\"BBC Top News Headlines\"])\n",
    "\n",
    "df.to_csv(\"bbc_card_headlines.csv\", index=False)\n",
    "print(\"Headlines saved to bbc_card_headlines.csv successfully!\\n\")\n",
    "\n",
    "print(df) \n"
   ]
  },
  {
   "cell_type": "code",
   "execution_count": null,
   "id": "c7c24729-e133-4998-a6ac-09c3b83b53e7",
   "metadata": {},
   "outputs": [],
   "source": []
  },
  {
   "cell_type": "code",
   "execution_count": null,
   "id": "66a4000a-a01d-4a61-a34a-621659efd21d",
   "metadata": {},
   "outputs": [],
   "source": []
  },
  {
   "cell_type": "code",
   "execution_count": null,
   "id": "1c3bd4d8-764d-47ae-aca9-9de9a8f5b30f",
   "metadata": {},
   "outputs": [],
   "source": []
  },
  {
   "cell_type": "code",
   "execution_count": null,
   "id": "107adccb-f8d5-4e1b-a45a-f35aa9dc19bf",
   "metadata": {},
   "outputs": [],
   "source": []
  },
  {
   "cell_type": "code",
   "execution_count": null,
   "id": "8c8a3d07-7a94-408e-aabd-fc4ddf30fb25",
   "metadata": {},
   "outputs": [],
   "source": []
  },
  {
   "cell_type": "code",
   "execution_count": null,
   "id": "77c63281-83ba-4170-b2cd-3d989111b86a",
   "metadata": {},
   "outputs": [],
   "source": []
  },
  {
   "cell_type": "code",
   "execution_count": null,
   "id": "48f80b95-b2f1-4eb5-a6b0-160f656d2e3c",
   "metadata": {},
   "outputs": [],
   "source": []
  },
  {
   "cell_type": "code",
   "execution_count": null,
   "id": "bf6b7600-7a65-4772-a134-46b98687ef18",
   "metadata": {},
   "outputs": [],
   "source": []
  },
  {
   "cell_type": "code",
   "execution_count": null,
   "id": "1716f3ef-da7a-4e74-9264-b2b83de9a93a",
   "metadata": {},
   "outputs": [],
   "source": []
  },
  {
   "cell_type": "code",
   "execution_count": null,
   "id": "111a21dd-078b-4d7d-ac84-44909a1fc82d",
   "metadata": {},
   "outputs": [],
   "source": []
  },
  {
   "cell_type": "code",
   "execution_count": null,
   "id": "21d05d59-6413-48f0-977c-b0d44eea0b48",
   "metadata": {},
   "outputs": [],
   "source": []
  },
  {
   "cell_type": "code",
   "execution_count": null,
   "id": "684f0bb4-cc0a-40de-a22d-0ce3f5201d5c",
   "metadata": {},
   "outputs": [],
   "source": []
  },
  {
   "cell_type": "code",
   "execution_count": null,
   "id": "ff01ee08-8070-4331-b48f-42584eff64c2",
   "metadata": {},
   "outputs": [],
   "source": []
  },
  {
   "cell_type": "code",
   "execution_count": null,
   "id": "167e2f7d-ff59-4079-943a-9453bf9c9875",
   "metadata": {},
   "outputs": [],
   "source": []
  },
  {
   "cell_type": "code",
   "execution_count": null,
   "id": "2b69250c-3aa8-46fd-ba74-9bbee6b4b037",
   "metadata": {},
   "outputs": [],
   "source": []
  },
  {
   "cell_type": "code",
   "execution_count": null,
   "id": "906b3845-0ba3-4ea9-843e-8ce5089e1d83",
   "metadata": {},
   "outputs": [],
   "source": []
  },
  {
   "cell_type": "code",
   "execution_count": null,
   "id": "d77f2ac7-0689-40e4-977a-2c1b3f092d66",
   "metadata": {},
   "outputs": [],
   "source": []
  }
 ],
 "metadata": {
  "kernelspec": {
   "display_name": "Python [conda env:base] *",
   "language": "python",
   "name": "conda-base-py"
  },
  "language_info": {
   "codemirror_mode": {
    "name": "ipython",
    "version": 3
   },
   "file_extension": ".py",
   "mimetype": "text/x-python",
   "name": "python",
   "nbconvert_exporter": "python",
   "pygments_lexer": "ipython3",
   "version": "3.12.4"
  }
 },
 "nbformat": 4,
 "nbformat_minor": 5
}
