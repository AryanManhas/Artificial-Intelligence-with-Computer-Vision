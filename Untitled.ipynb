{
 "cells": [
  {
   "cell_type": "code",
   "execution_count": 10,
   "id": "2384ebe0-24b6-40dc-a232-1f37abb90177",
   "metadata": {},
   "outputs": [],
   "source": [
    "import cv2\n",
    "\n",
    "# Load the image\n",
    "image = cv2.imread(\"2323.jpg\")\n",
    "\n",
    "# Define the upscale factor\n",
    "scale_factor = 4\n",
    "\n",
    "# Get new dimensions\n",
    "new_width = image.shape[1] * scale_factor\n",
    "new_height = image.shape[0] * scale_factor\n",
    "\n",
    "# Perform upscaling using bicubic interpolation\n",
    "upscaled_image = cv2.resize(image, (new_width, new_height), interpolation=cv2.INTER_CUBIC)\n",
    "\n",
    "# Save and display the upscaled image\n",
    "cv2.imwrite(\"upscaled_image.jpg\", upscaled_image)\n",
    "cv2.imshow(\"Upscaled Image\", upscaled_image)\n",
    "cv2.waitKey(0)\n",
    "cv2.destroyAllWindows()\n"
   ]
  },
  {
   "cell_type": "code",
   "execution_count": null,
   "id": "68d2dac0-c3d8-4992-a3bc-6d7a00000b00",
   "metadata": {},
   "outputs": [],
   "source": []
  },
  {
   "cell_type": "code",
   "execution_count": null,
   "id": "e54db92f-0149-4dbe-9b67-6aa444436684",
   "metadata": {},
   "outputs": [],
   "source": []
  },
  {
   "cell_type": "code",
   "execution_count": null,
   "id": "a1f25e60-3940-4b07-aeb8-f455a2ab1c8c",
   "metadata": {},
   "outputs": [],
   "source": []
  },
  {
   "cell_type": "code",
   "execution_count": null,
   "id": "599d704d-44d5-4afd-8b48-792f47953cf5",
   "metadata": {},
   "outputs": [],
   "source": []
  },
  {
   "cell_type": "code",
   "execution_count": null,
   "id": "72bbe03e-35bc-4da1-ad9e-70c5e49d3fec",
   "metadata": {},
   "outputs": [],
   "source": []
  },
  {
   "cell_type": "code",
   "execution_count": null,
   "id": "bb3e06e5-8fa7-493d-9a0d-3bfeb57ee59e",
   "metadata": {},
   "outputs": [],
   "source": []
  },
  {
   "cell_type": "code",
   "execution_count": null,
   "id": "66091f23-cb46-40c2-b73b-a75c28f101d0",
   "metadata": {},
   "outputs": [],
   "source": []
  },
  {
   "cell_type": "code",
   "execution_count": null,
   "id": "6022c993-d70b-45b7-8eea-2709dbc345ab",
   "metadata": {},
   "outputs": [],
   "source": []
  },
  {
   "cell_type": "code",
   "execution_count": null,
   "id": "3eee3e28-e99c-472c-bca0-ea2f14dce232",
   "metadata": {},
   "outputs": [],
   "source": []
  },
  {
   "cell_type": "code",
   "execution_count": null,
   "id": "ece4b988-2fca-4852-b3c8-d9c753a98886",
   "metadata": {},
   "outputs": [],
   "source": []
  },
  {
   "cell_type": "code",
   "execution_count": null,
   "id": "2f96fb12-75ad-402d-8d26-2ed1c880a038",
   "metadata": {},
   "outputs": [],
   "source": []
  },
  {
   "cell_type": "code",
   "execution_count": null,
   "id": "533cd4a2-a286-4c60-9e6c-684596d9182e",
   "metadata": {},
   "outputs": [],
   "source": []
  },
  {
   "cell_type": "code",
   "execution_count": null,
   "id": "efb9ff83-d041-46f2-89c0-bb6c59c43b4b",
   "metadata": {},
   "outputs": [],
   "source": []
  },
  {
   "cell_type": "code",
   "execution_count": null,
   "id": "a95a9837-d650-4a5b-b363-02672207f258",
   "metadata": {},
   "outputs": [],
   "source": []
  },
  {
   "cell_type": "code",
   "execution_count": null,
   "id": "660051b1-f3a4-46d6-b549-42a83e54250b",
   "metadata": {},
   "outputs": [],
   "source": []
  },
  {
   "cell_type": "code",
   "execution_count": null,
   "id": "99e7f59e-dea1-4914-bf51-3590ee977ea1",
   "metadata": {},
   "outputs": [],
   "source": []
  },
  {
   "cell_type": "code",
   "execution_count": null,
   "id": "56d51480-0278-4b25-82eb-615256f2e208",
   "metadata": {},
   "outputs": [],
   "source": []
  },
  {
   "cell_type": "code",
   "execution_count": null,
   "id": "241eaed1-f9a9-4f31-a6de-6c13be40f50c",
   "metadata": {},
   "outputs": [],
   "source": []
  },
  {
   "cell_type": "code",
   "execution_count": null,
   "id": "cb0ec544-740c-4670-8d58-564c958256cb",
   "metadata": {},
   "outputs": [],
   "source": []
  },
  {
   "cell_type": "code",
   "execution_count": null,
   "id": "7a085609-260d-4281-8de7-83a9e13b39e3",
   "metadata": {},
   "outputs": [],
   "source": []
  },
  {
   "cell_type": "code",
   "execution_count": null,
   "id": "9f09d7e7-f5d7-4eb5-b7b4-10d0f2135ff1",
   "metadata": {},
   "outputs": [],
   "source": []
  },
  {
   "cell_type": "code",
   "execution_count": null,
   "id": "a5ac0374-3df9-4ffe-9338-0d1e3ede3986",
   "metadata": {},
   "outputs": [],
   "source": []
  },
  {
   "cell_type": "code",
   "execution_count": null,
   "id": "e2050f72-d233-4001-a018-311a651af517",
   "metadata": {},
   "outputs": [],
   "source": []
  }
 ],
 "metadata": {
  "kernelspec": {
   "display_name": "Python [conda env:base] *",
   "language": "python",
   "name": "conda-base-py"
  },
  "language_info": {
   "codemirror_mode": {
    "name": "ipython",
    "version": 3
   },
   "file_extension": ".py",
   "mimetype": "text/x-python",
   "name": "python",
   "nbconvert_exporter": "python",
   "pygments_lexer": "ipython3",
   "version": "3.12.4"
  }
 },
 "nbformat": 4,
 "nbformat_minor": 5
}
