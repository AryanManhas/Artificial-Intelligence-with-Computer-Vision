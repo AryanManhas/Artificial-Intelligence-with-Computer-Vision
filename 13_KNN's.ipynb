{
 "cells": [
  {
   "cell_type": "code",
   "execution_count": 9,
   "id": "e9fda8a2-0283-450b-bd49-53187bb4e019",
   "metadata": {},
   "outputs": [
    {
     "name": "stdout",
     "output_type": "stream",
     "text": [
      "   Email Length  Num. Links  Num. Spam Words  Has Offer (1/0)  \\\n",
      "0           254           3                2                0   \n",
      "1           356           4                0                1   \n",
      "2           269           2                6                0   \n",
      "3           321           2                5                1   \n",
      "4           103           2                3                0   \n",
      "\n",
      "   Has Urgent (1/0)  Spam (1=Yes, 0=No)  \n",
      "0                 0                   1  \n",
      "1                 0                   1  \n",
      "2                 0                   1  \n",
      "3                 1                   1  \n",
      "4                 0                   0  \n",
      "Model Accuracy: 83.33%\n",
      "The email is SPAM.\n"
     ]
    }
   ],
   "source": [
    "import pandas as pd\n",
    "from sklearn.model_selection import train_test_split\n",
    "from sklearn.neighbors import KNeighborsClassifier\n",
    "from sklearn.metrics import accuracy_score\n",
    "\n",
    "# Load dataset from CSV file\n",
    "df = pd.read_csv(\"email_spam_dataset.csv\")  # Ensure this is the correct file path\n",
    "\n",
    "# Display first few rows to check the data\n",
    "print(df.head())\n",
    "\n",
    "# Define feature columns and target variable\n",
    "feature_columns = [\"Email Length\", \"Num. Links\", \"Num. Spam Words\", \"Has Offer (1/0)\", \"Has Urgent (1/0)\"]\n",
    "X = df[feature_columns]  # Features\n",
    "y = df[\"Spam (1=Yes, 0=No)\"]  # Target variable\n",
    "\n",
    "# Split the dataset into training (80%) and testing (20%)\n",
    "X_train, X_test, y_train, y_test = train_test_split(X, y, test_size=0.2, random_state=42)\n",
    "\n",
    "# Train the KNN classifier with k=5\n",
    "knn = KNeighborsClassifier(n_neighbors=5)\n",
    "knn.fit(X_train, y_train)\n",
    "\n",
    "# Predict on test data\n",
    "y_pred = knn.predict(X_test)\n",
    "\n",
    "# Calculate accuracy\n",
    "accuracy = accuracy_score(y_test, y_pred)\n",
    "print(f\"Model Accuracy: {accuracy * 100:.2f}%\")\n",
    "\n",
    "# Predict a new email based on its features\n",
    "# Ensure new email features match the training DataFrame format\n",
    "new_email_features = pd.DataFrame([[150, 1, 2, 1, 0]], columns=feature_columns)\n",
    "\n",
    "# Predict using KNN\n",
    "prediction = knn.predict(new_email_features)\n",
    "\n",
    "# Output prediction\n",
    "print(\"The email is SPAM.\" if prediction[0] == 1 else \"The email is NOT spam.\")\n"
   ]
  },
  {
   "cell_type": "code",
   "execution_count": null,
   "id": "5882647c-fc34-4ef8-82c1-c991434bcc70",
   "metadata": {},
   "outputs": [],
   "source": []
  },
  {
   "cell_type": "code",
   "execution_count": null,
   "id": "549a6541-29c1-4c4c-aa8b-a4900d66b848",
   "metadata": {},
   "outputs": [],
   "source": []
  },
  {
   "cell_type": "code",
   "execution_count": null,
   "id": "4f6d16ee-b9b4-4365-bcb5-f544416612a3",
   "metadata": {},
   "outputs": [],
   "source": []
  },
  {
   "cell_type": "code",
   "execution_count": null,
   "id": "f3dd8bf1-36c9-4bdf-a55f-94f85ea21cd5",
   "metadata": {},
   "outputs": [],
   "source": []
  },
  {
   "cell_type": "code",
   "execution_count": null,
   "id": "58606df4-f523-45dc-a586-10abc460278c",
   "metadata": {},
   "outputs": [],
   "source": []
  },
  {
   "cell_type": "code",
   "execution_count": null,
   "id": "9d83d76e-efda-4913-a877-ec433057df3b",
   "metadata": {},
   "outputs": [],
   "source": []
  },
  {
   "cell_type": "code",
   "execution_count": null,
   "id": "8bb2739d-ef2c-4faa-b9ff-1c5c9b393fd5",
   "metadata": {},
   "outputs": [],
   "source": []
  },
  {
   "cell_type": "code",
   "execution_count": null,
   "id": "f2627f3d-1238-4b2c-8b48-2515d53a9251",
   "metadata": {},
   "outputs": [],
   "source": []
  },
  {
   "cell_type": "code",
   "execution_count": null,
   "id": "ef706781-ab21-4e76-915a-7cf3e4e7b13b",
   "metadata": {},
   "outputs": [],
   "source": []
  }
 ],
 "metadata": {
  "kernelspec": {
   "display_name": "Python [conda env:base] *",
   "language": "python",
   "name": "conda-base-py"
  },
  "language_info": {
   "codemirror_mode": {
    "name": "ipython",
    "version": 3
   },
   "file_extension": ".py",
   "mimetype": "text/x-python",
   "name": "python",
   "nbconvert_exporter": "python",
   "pygments_lexer": "ipython3",
   "version": "3.12.4"
  }
 },
 "nbformat": 4,
 "nbformat_minor": 5
}
