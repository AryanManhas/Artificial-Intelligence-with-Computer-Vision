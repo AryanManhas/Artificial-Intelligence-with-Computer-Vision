{
 "cells": [
  {
   "cell_type": "code",
   "execution_count": 17,
   "id": "9139c833-270c-4f31-b0ce-91a232a9b26a",
   "metadata": {},
   "outputs": [
    {
     "name": "stdout",
     "output_type": "stream",
     "text": [
      "           Age  Income Student CreditRating BuyLaptop\n",
      "0        Young    High      No         Fair        No\n",
      "1  Middle-Aged    High      No         Fair       Yes\n",
      "2       Senior  Medium      No         Fair       Yes\n",
      "3       Senior     Low     Yes         Fair       Yes\n",
      "4  Middle-Aged     Low     Yes    Excellent       Yes\n",
      "5        Young     Low     Yes         Fair       Yes \n",
      "\n",
      "\n",
      "The attributes are:\n",
      " [['Young' 'High' 'No' 'Fair']\n",
      " ['Middle-Aged' 'High' 'No' 'Fair']\n",
      " ['Senior' 'Medium' 'No' 'Fair']\n",
      " ['Senior' 'Low' 'Yes' 'Fair']\n",
      " ['Middle-Aged' 'Low' 'Yes' 'Excellent']\n",
      " ['Young' 'Low' 'Yes' 'Fair']]\n",
      "\n",
      "The target is:\n",
      " ['No' 'Yes' 'Yes' 'Yes' 'Yes' 'Yes']\n",
      "\n",
      "The final hypothesis is:\n",
      " ['?' '?' '?' '?']\n"
     ]
    }
   ],
   "source": [
    "import pandas as pd\n",
    "import numpy as np\n",
    "\n",
    "# To read the data in the CSV file (fixing the file path issue)\n",
    "data = pd.read_csv(r\"C:\\Users\\ACER\\Downloads\\data.csv\")  # Use raw string (r\"\") to handle backslashes\n",
    "print(data, \"\\n\")  # Fixed incorrect \"n\" to \"\\n\"\n",
    "\n",
    "# Making an array of all the attributes\n",
    "d = np.array(data)[:, :-1]\n",
    "print(\"\\nThe attributes are:\\n\", d)  # Fixed incorrect \"n\" to \"\\n\"\n",
    "\n",
    "# Segregating the target that has positive and negative examples\n",
    "target = np.array(data)[:, -1]\n",
    "print(\"\\nThe target is:\\n\", target)  # Fixed incorrect \"n\" to \"\\n\"\n",
    "\n",
    "# Training function to implement Find-S algorithm\n",
    "def train(c, t):\n",
    "    specific_hypothesis = None  # Initialize hypothesis\n",
    "\n",
    "    # Find the first positive example\n",
    "    for i, val in enumerate(t):\n",
    "        if val == \"Yes\":\n",
    "            specific_hypothesis = c[i].copy()  # Initialize hypothesis with first positive example\n",
    "            break\n",
    "\n",
    "    # Check if there was at least one positive example\n",
    "    if specific_hypothesis is None:\n",
    "        return None  # No positive examples found\n",
    "\n",
    "    # Update hypothesis by comparing with other positive examples\n",
    "    for i in range(len(c)):  \n",
    "        if t[i] == \"Yes\":\n",
    "            for x in range(len(specific_hypothesis)):\n",
    "                if c[i][x] != specific_hypothesis[x]:\n",
    "                    specific_hypothesis[x] = '?'\n",
    "\n",
    "    return specific_hypothesis\n",
    "\n",
    "# Obtaining the final hypothesis\n",
    "final_hypothesis = train(d, target)\n",
    "print(\"\\nThe final hypothesis is:\\n\", final_hypothesis)\n"
   ]
  },
  {
   "cell_type": "code",
   "execution_count": null,
   "id": "227b8dab-a5ac-4359-bbad-93a01d18e52b",
   "metadata": {},
   "outputs": [],
   "source": []
  },
  {
   "cell_type": "code",
   "execution_count": null,
   "id": "b5fb9ce3-3ed1-48ce-a708-ee0b4ef7257a",
   "metadata": {},
   "outputs": [],
   "source": []
  },
  {
   "cell_type": "code",
   "execution_count": null,
   "id": "c0e28348-7a44-4f38-bb04-4aaa7acba6e6",
   "metadata": {},
   "outputs": [],
   "source": []
  }
 ],
 "metadata": {
  "kernelspec": {
   "display_name": "Python [conda env:base] *",
   "language": "python",
   "name": "conda-base-py"
  },
  "language_info": {
   "codemirror_mode": {
    "name": "ipython",
    "version": 3
   },
   "file_extension": ".py",
   "mimetype": "text/x-python",
   "name": "python",
   "nbconvert_exporter": "python",
   "pygments_lexer": "ipython3",
   "version": "3.12.4"
  }
 },
 "nbformat": 4,
 "nbformat_minor": 5
}
